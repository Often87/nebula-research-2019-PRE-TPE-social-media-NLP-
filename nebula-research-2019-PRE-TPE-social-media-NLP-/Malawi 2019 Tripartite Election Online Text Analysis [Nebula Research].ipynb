{
 "cells": [
  {
   "cell_type": "markdown",
   "metadata": {},
   "source": [
    "# Malawi 2019 Tripartite Election Online Text Analysis [Nebula Research]\n",
    "\n",
    "## Background\n",
    "\n",
    "## Objectives\n",
    "\n"
   ]
  },
  {
   "cell_type": "code",
   "execution_count": null,
   "metadata": {},
   "outputs": [],
   "source": [
    "Scraping commments from mw24post"
   ]
  },
  {
   "cell_type": "code",
   "execution_count": 1,
   "metadata": {
    "collapsed": true
   },
   "outputs": [
    {
     "ename": "HTTPError",
     "evalue": "HTTP Error 403: Forbidden",
     "output_type": "error",
     "traceback": [
      "\u001b[1;31m---------------------------------------------------------------------------\u001b[0m",
      "\u001b[1;31mHTTPError\u001b[0m                                 Traceback (most recent call last)",
      "\u001b[1;32m<ipython-input-1-f04d78ddd6ce>\u001b[0m in \u001b[0;36m<module>\u001b[1;34m()\u001b[0m\n\u001b[0;32m      1\u001b[0m \u001b[1;32mfrom\u001b[0m \u001b[0murllib\u001b[0m\u001b[1;33m.\u001b[0m\u001b[0mrequest\u001b[0m \u001b[1;32mimport\u001b[0m \u001b[0murlopen\u001b[0m\u001b[1;33m\u001b[0m\u001b[0m\n\u001b[0;32m      2\u001b[0m \u001b[1;31m#html = urlopen(\"https://malawi24.com/category/politics/\")\u001b[0m\u001b[1;33m\u001b[0m\u001b[1;33m\u001b[0m\u001b[0m\n\u001b[1;32m----> 3\u001b[1;33m \u001b[0mhtml\u001b[0m \u001b[1;33m=\u001b[0m \u001b[0murlopen\u001b[0m\u001b[1;33m(\u001b[0m\u001b[1;34m\"https://www.nyasatimes.com/more-details-in-k53bn-uniform-gate-emerge-despite-karims-gag-order/\"\u001b[0m\u001b[1;33m)\u001b[0m\u001b[1;33m\u001b[0m\u001b[0m\n\u001b[0m\u001b[0;32m      4\u001b[0m \u001b[0mr\u001b[0m\u001b[1;33m=\u001b[0m\u001b[0mprint\u001b[0m\u001b[1;33m(\u001b[0m\u001b[0mhtml\u001b[0m\u001b[1;33m.\u001b[0m\u001b[0mread\u001b[0m\u001b[1;33m(\u001b[0m\u001b[1;33m)\u001b[0m\u001b[1;33m)\u001b[0m\u001b[1;33m\u001b[0m\u001b[0m\n\u001b[0;32m      5\u001b[0m \u001b[1;33m\u001b[0m\u001b[0m\n",
      "\u001b[1;32mc:\\users\\chimango chisuwo\\appdata\\local\\programs\\python\\python36\\lib\\urllib\\request.py\u001b[0m in \u001b[0;36murlopen\u001b[1;34m(url, data, timeout, cafile, capath, cadefault, context)\u001b[0m\n\u001b[0;32m    221\u001b[0m     \u001b[1;32melse\u001b[0m\u001b[1;33m:\u001b[0m\u001b[1;33m\u001b[0m\u001b[0m\n\u001b[0;32m    222\u001b[0m         \u001b[0mopener\u001b[0m \u001b[1;33m=\u001b[0m \u001b[0m_opener\u001b[0m\u001b[1;33m\u001b[0m\u001b[0m\n\u001b[1;32m--> 223\u001b[1;33m     \u001b[1;32mreturn\u001b[0m \u001b[0mopener\u001b[0m\u001b[1;33m.\u001b[0m\u001b[0mopen\u001b[0m\u001b[1;33m(\u001b[0m\u001b[0murl\u001b[0m\u001b[1;33m,\u001b[0m \u001b[0mdata\u001b[0m\u001b[1;33m,\u001b[0m \u001b[0mtimeout\u001b[0m\u001b[1;33m)\u001b[0m\u001b[1;33m\u001b[0m\u001b[0m\n\u001b[0m\u001b[0;32m    224\u001b[0m \u001b[1;33m\u001b[0m\u001b[0m\n\u001b[0;32m    225\u001b[0m \u001b[1;32mdef\u001b[0m \u001b[0minstall_opener\u001b[0m\u001b[1;33m(\u001b[0m\u001b[0mopener\u001b[0m\u001b[1;33m)\u001b[0m\u001b[1;33m:\u001b[0m\u001b[1;33m\u001b[0m\u001b[0m\n",
      "\u001b[1;32mc:\\users\\chimango chisuwo\\appdata\\local\\programs\\python\\python36\\lib\\urllib\\request.py\u001b[0m in \u001b[0;36mopen\u001b[1;34m(self, fullurl, data, timeout)\u001b[0m\n\u001b[0;32m    530\u001b[0m         \u001b[1;32mfor\u001b[0m \u001b[0mprocessor\u001b[0m \u001b[1;32min\u001b[0m \u001b[0mself\u001b[0m\u001b[1;33m.\u001b[0m\u001b[0mprocess_response\u001b[0m\u001b[1;33m.\u001b[0m\u001b[0mget\u001b[0m\u001b[1;33m(\u001b[0m\u001b[0mprotocol\u001b[0m\u001b[1;33m,\u001b[0m \u001b[1;33m[\u001b[0m\u001b[1;33m]\u001b[0m\u001b[1;33m)\u001b[0m\u001b[1;33m:\u001b[0m\u001b[1;33m\u001b[0m\u001b[0m\n\u001b[0;32m    531\u001b[0m             \u001b[0mmeth\u001b[0m \u001b[1;33m=\u001b[0m \u001b[0mgetattr\u001b[0m\u001b[1;33m(\u001b[0m\u001b[0mprocessor\u001b[0m\u001b[1;33m,\u001b[0m \u001b[0mmeth_name\u001b[0m\u001b[1;33m)\u001b[0m\u001b[1;33m\u001b[0m\u001b[0m\n\u001b[1;32m--> 532\u001b[1;33m             \u001b[0mresponse\u001b[0m \u001b[1;33m=\u001b[0m \u001b[0mmeth\u001b[0m\u001b[1;33m(\u001b[0m\u001b[0mreq\u001b[0m\u001b[1;33m,\u001b[0m \u001b[0mresponse\u001b[0m\u001b[1;33m)\u001b[0m\u001b[1;33m\u001b[0m\u001b[0m\n\u001b[0m\u001b[0;32m    533\u001b[0m \u001b[1;33m\u001b[0m\u001b[0m\n\u001b[0;32m    534\u001b[0m         \u001b[1;32mreturn\u001b[0m \u001b[0mresponse\u001b[0m\u001b[1;33m\u001b[0m\u001b[0m\n",
      "\u001b[1;32mc:\\users\\chimango chisuwo\\appdata\\local\\programs\\python\\python36\\lib\\urllib\\request.py\u001b[0m in \u001b[0;36mhttp_response\u001b[1;34m(self, request, response)\u001b[0m\n\u001b[0;32m    640\u001b[0m         \u001b[1;32mif\u001b[0m \u001b[1;32mnot\u001b[0m \u001b[1;33m(\u001b[0m\u001b[1;36m200\u001b[0m \u001b[1;33m<=\u001b[0m \u001b[0mcode\u001b[0m \u001b[1;33m<\u001b[0m \u001b[1;36m300\u001b[0m\u001b[1;33m)\u001b[0m\u001b[1;33m:\u001b[0m\u001b[1;33m\u001b[0m\u001b[0m\n\u001b[0;32m    641\u001b[0m             response = self.parent.error(\n\u001b[1;32m--> 642\u001b[1;33m                 'http', request, response, code, msg, hdrs)\n\u001b[0m\u001b[0;32m    643\u001b[0m \u001b[1;33m\u001b[0m\u001b[0m\n\u001b[0;32m    644\u001b[0m         \u001b[1;32mreturn\u001b[0m \u001b[0mresponse\u001b[0m\u001b[1;33m\u001b[0m\u001b[0m\n",
      "\u001b[1;32mc:\\users\\chimango chisuwo\\appdata\\local\\programs\\python\\python36\\lib\\urllib\\request.py\u001b[0m in \u001b[0;36merror\u001b[1;34m(self, proto, *args)\u001b[0m\n\u001b[0;32m    568\u001b[0m         \u001b[1;32mif\u001b[0m \u001b[0mhttp_err\u001b[0m\u001b[1;33m:\u001b[0m\u001b[1;33m\u001b[0m\u001b[0m\n\u001b[0;32m    569\u001b[0m             \u001b[0margs\u001b[0m \u001b[1;33m=\u001b[0m \u001b[1;33m(\u001b[0m\u001b[0mdict\u001b[0m\u001b[1;33m,\u001b[0m \u001b[1;34m'default'\u001b[0m\u001b[1;33m,\u001b[0m \u001b[1;34m'http_error_default'\u001b[0m\u001b[1;33m)\u001b[0m \u001b[1;33m+\u001b[0m \u001b[0morig_args\u001b[0m\u001b[1;33m\u001b[0m\u001b[0m\n\u001b[1;32m--> 570\u001b[1;33m             \u001b[1;32mreturn\u001b[0m \u001b[0mself\u001b[0m\u001b[1;33m.\u001b[0m\u001b[0m_call_chain\u001b[0m\u001b[1;33m(\u001b[0m\u001b[1;33m*\u001b[0m\u001b[0margs\u001b[0m\u001b[1;33m)\u001b[0m\u001b[1;33m\u001b[0m\u001b[0m\n\u001b[0m\u001b[0;32m    571\u001b[0m \u001b[1;33m\u001b[0m\u001b[0m\n\u001b[0;32m    572\u001b[0m \u001b[1;31m# XXX probably also want an abstract factory that knows when it makes\u001b[0m\u001b[1;33m\u001b[0m\u001b[1;33m\u001b[0m\u001b[0m\n",
      "\u001b[1;32mc:\\users\\chimango chisuwo\\appdata\\local\\programs\\python\\python36\\lib\\urllib\\request.py\u001b[0m in \u001b[0;36m_call_chain\u001b[1;34m(self, chain, kind, meth_name, *args)\u001b[0m\n\u001b[0;32m    502\u001b[0m         \u001b[1;32mfor\u001b[0m \u001b[0mhandler\u001b[0m \u001b[1;32min\u001b[0m \u001b[0mhandlers\u001b[0m\u001b[1;33m:\u001b[0m\u001b[1;33m\u001b[0m\u001b[0m\n\u001b[0;32m    503\u001b[0m             \u001b[0mfunc\u001b[0m \u001b[1;33m=\u001b[0m \u001b[0mgetattr\u001b[0m\u001b[1;33m(\u001b[0m\u001b[0mhandler\u001b[0m\u001b[1;33m,\u001b[0m \u001b[0mmeth_name\u001b[0m\u001b[1;33m)\u001b[0m\u001b[1;33m\u001b[0m\u001b[0m\n\u001b[1;32m--> 504\u001b[1;33m             \u001b[0mresult\u001b[0m \u001b[1;33m=\u001b[0m \u001b[0mfunc\u001b[0m\u001b[1;33m(\u001b[0m\u001b[1;33m*\u001b[0m\u001b[0margs\u001b[0m\u001b[1;33m)\u001b[0m\u001b[1;33m\u001b[0m\u001b[0m\n\u001b[0m\u001b[0;32m    505\u001b[0m             \u001b[1;32mif\u001b[0m \u001b[0mresult\u001b[0m \u001b[1;32mis\u001b[0m \u001b[1;32mnot\u001b[0m \u001b[1;32mNone\u001b[0m\u001b[1;33m:\u001b[0m\u001b[1;33m\u001b[0m\u001b[0m\n\u001b[0;32m    506\u001b[0m                 \u001b[1;32mreturn\u001b[0m \u001b[0mresult\u001b[0m\u001b[1;33m\u001b[0m\u001b[0m\n",
      "\u001b[1;32mc:\\users\\chimango chisuwo\\appdata\\local\\programs\\python\\python36\\lib\\urllib\\request.py\u001b[0m in \u001b[0;36mhttp_error_default\u001b[1;34m(self, req, fp, code, msg, hdrs)\u001b[0m\n\u001b[0;32m    648\u001b[0m \u001b[1;32mclass\u001b[0m \u001b[0mHTTPDefaultErrorHandler\u001b[0m\u001b[1;33m(\u001b[0m\u001b[0mBaseHandler\u001b[0m\u001b[1;33m)\u001b[0m\u001b[1;33m:\u001b[0m\u001b[1;33m\u001b[0m\u001b[0m\n\u001b[0;32m    649\u001b[0m     \u001b[1;32mdef\u001b[0m \u001b[0mhttp_error_default\u001b[0m\u001b[1;33m(\u001b[0m\u001b[0mself\u001b[0m\u001b[1;33m,\u001b[0m \u001b[0mreq\u001b[0m\u001b[1;33m,\u001b[0m \u001b[0mfp\u001b[0m\u001b[1;33m,\u001b[0m \u001b[0mcode\u001b[0m\u001b[1;33m,\u001b[0m \u001b[0mmsg\u001b[0m\u001b[1;33m,\u001b[0m \u001b[0mhdrs\u001b[0m\u001b[1;33m)\u001b[0m\u001b[1;33m:\u001b[0m\u001b[1;33m\u001b[0m\u001b[0m\n\u001b[1;32m--> 650\u001b[1;33m         \u001b[1;32mraise\u001b[0m \u001b[0mHTTPError\u001b[0m\u001b[1;33m(\u001b[0m\u001b[0mreq\u001b[0m\u001b[1;33m.\u001b[0m\u001b[0mfull_url\u001b[0m\u001b[1;33m,\u001b[0m \u001b[0mcode\u001b[0m\u001b[1;33m,\u001b[0m \u001b[0mmsg\u001b[0m\u001b[1;33m,\u001b[0m \u001b[0mhdrs\u001b[0m\u001b[1;33m,\u001b[0m \u001b[0mfp\u001b[0m\u001b[1;33m)\u001b[0m\u001b[1;33m\u001b[0m\u001b[0m\n\u001b[0m\u001b[0;32m    651\u001b[0m \u001b[1;33m\u001b[0m\u001b[0m\n\u001b[0;32m    652\u001b[0m \u001b[1;32mclass\u001b[0m \u001b[0mHTTPRedirectHandler\u001b[0m\u001b[1;33m(\u001b[0m\u001b[0mBaseHandler\u001b[0m\u001b[1;33m)\u001b[0m\u001b[1;33m:\u001b[0m\u001b[1;33m\u001b[0m\u001b[0m\n",
      "\u001b[1;31mHTTPError\u001b[0m: HTTP Error 403: Forbidden"
     ]
    }
   ],
   "source": [
    "from urllib.request import urlopen\n",
    "#html = urlopen(\"https://malawi24.com/category/politics/\")\n",
    "html = urlopen(\"https://www.nyasatimes.com/more-details-in-k53bn-uniform-gate-emerge-despite-karims-gag-order/\")\n",
    "r=print(html.read())\n",
    "\n",
    "\n",
    "r"
   ]
  },
  {
   "cell_type": "code",
   "execution_count": 2,
   "metadata": {},
   "outputs": [
    {
     "name": "stdout",
     "output_type": "stream",
     "text": [
      " \n",
      "They’re fools, narrow minded ,and stupid paw paws mxiiiim\n",
      " \n",
      "If you don’t have anything to report , stay put.\n",
      " \n",
      "Inu alubwi lubwi mumafuna kuti ayankhule mupezepo chonena zaziiiiiiiiii chibanziiii\n",
      "\n",
      " \n",
      "\n",
      "\n",
      "\n",
      "\n",
      "\n",
      "\n"
     ]
    }
   ],
   "source": [
    "from bs4 import BeautifulSoup\n",
    "import requests\n",
    "\n",
    "url = 'https://malawi24.com/2019/02/01/group-accuses-chilima-of-promoting-hate/'\n",
    "page = requests.get(url)\n",
    "soup = BeautifulSoup(page.content, 'lxml')\n",
    "for content in soup.select(\"[id^='comments'] p\"):\n",
    "    x=print(content.text)\n",
    "    \n",
    "    "
   ]
  },
  {
   "cell_type": "code",
   "execution_count": null,
   "metadata": {},
   "outputs": [],
   "source": [
    "scraping nytimes post first paragraph only"
   ]
  },
  {
   "cell_type": "code",
   "execution_count": 1,
   "metadata": {},
   "outputs": [
    {
     "name": "stdout",
     "output_type": "stream",
     "text": [
      "http://www.africa.airtel.com/wps/wcm/connect/africarevamp/Malawi/\n",
      "http://www.africa.airtel.com/wps/wcm/connect/africarevamp/Malawi/\n",
      "https://www.nyasatimes.com/\n",
      "http://www.beforward.jp/?utm_source=media&utm_medium=display&utm_term=MS2018030100001&utm_content=NewSaleBanner&utm_campaign=NyasatimesTop_NewSaleBanner\n",
      "http://www.beforward.jp/?utm_source=media&utm_medium=display&utm_term=MS2018030100001&utm_content=NewSaleBanner&utm_campaign=NyasatimesTop_NewSaleBanner\n",
      "#content\n",
      "http://www.nyasatimes.com/\n",
      "https://www.nyasatimes.com/category/national/\n",
      "https://www.nyasatimes.com/calvalry-churchs-apostle-mbewe-says-dont-vote-for-leaders-who-keep-grudges/\n",
      "https://www.nyasatimes.com/calvalry-churchs-apostle-mbewe-says-dont-vote-for-leaders-who-keep-grudges/\n",
      "https://www.nyasatimes.com/uladi-mussa-back-in-court/\n",
      "https://www.nyasatimes.com/uladi-mussa-back-in-court/\n",
      "https://www.nyasatimes.com/usi-risks-arrests-police-investigate-utms-veep-gp-certificate/\n",
      "https://www.nyasatimes.com/usi-risks-arrests-police-investigate-utms-veep-gp-certificate/\n",
      "https://www.nyasatimes.com/joyce-banda-set-to-raise-malawi-minimum-wage-by-64-pledges-to-create-smart-villages/\n",
      "https://www.nyasatimes.com/joyce-banda-set-to-raise-malawi-minimum-wage-by-64-pledges-to-create-smart-villages/\n",
      "https://www.nyasatimes.com/category/politics/\n",
      "https://www.nyasatimes.com/atupeles-runningmate-mwenifumbo-tells-chihana-i-am-not-resigning-from-aford/\n",
      "https://www.nyasatimes.com/atupeles-runningmate-mwenifumbo-tells-chihana-i-am-not-resigning-from-aford/\n",
      "https://www.nyasatimes.com/mutharika-issues-certificates-to-dpp-parliamentary-candidates/\n",
      "https://www.nyasatimes.com/mutharika-issues-certificates-to-dpp-parliamentary-candidates/\n",
      "https://www.nyasatimes.com/mcp-making-inroads-in-monkey-bay-says-aspirant-kazembe/\n",
      "https://www.nyasatimes.com/mcp-making-inroads-in-monkey-bay-says-aspirant-kazembe/\n",
      "https://www.nyasatimes.com/utm-veep-and-chilimas-running-mate-usi-in-maiden-event/\n",
      "https://www.nyasatimes.com/utm-veep-and-chilimas-running-mate-usi-in-maiden-event/\n",
      "https://www.nyasatimes.com/category/sports/\n",
      "https://www.nyasatimes.com/tnm-honours-sports-journalists-times-gondwa-named-best-super-league-commentator/\n",
      "https://www.nyasatimes.com/tnm-honours-sports-journalists-times-gondwa-named-best-super-league-commentator/\n",
      "https://www.nyasatimes.com/bakhresadeny-duping-tigers-clarify-on-sponsorship/\n",
      "https://www.nyasatimes.com/bakhresadeny-duping-tigers-clarify-on-sponsorship/\n",
      "https://www.nyasatimes.com/tiya-somba-banda-go-unopposed-at-sulom-polls/\n",
      "https://www.nyasatimes.com/tiya-somba-banda-go-unopposed-at-sulom-polls/\n",
      "https://www.nyasatimes.com/bullets-reserve-counted-out-of-super-league-ntopwa-to-go-up/\n",
      "https://www.nyasatimes.com/bullets-reserve-counted-out-of-super-league-ntopwa-to-go-up/\n",
      "https://www.nyasatimes.com/category/business/\n",
      "https://www.nyasatimes.com/malawi-investment-and-trade-centre-wants-smes-to-utilise-foreign-markets/\n",
      "https://www.nyasatimes.com/malawi-investment-and-trade-centre-wants-smes-to-utilise-foreign-markets/\n",
      "https://www.nyasatimes.com/beautify-malawi-trust-plants-over-1000-trees-in-chitedze/\n",
      "https://www.nyasatimes.com/beautify-malawi-trust-plants-over-1000-trees-in-chitedze/\n",
      "https://www.nyasatimes.com/lilongwe-water-board-keen-to-curb-illegal-water-connections/\n",
      "https://www.nyasatimes.com/lilongwe-water-board-keen-to-curb-illegal-water-connections/\n",
      "https://www.nyasatimes.com/harawa-appointed-as-new-malawi-revenue-authority-board-chair/\n",
      "https://www.nyasatimes.com/harawa-appointed-as-new-malawi-revenue-authority-board-chair/\n",
      "https://www.nyasatimes.com/category/columns/\n",
      "https://www.nyasatimes.com/when-god-causes-confusion-in-the-camp-of-the-enemies/\n",
      "https://www.nyasatimes.com/when-god-causes-confusion-in-the-camp-of-the-enemies/\n",
      "https://www.nyasatimes.com/ras-chikomeni-simply-wanted-to-make-a-statement-to-shame-malawi-political-system/\n",
      "https://www.nyasatimes.com/ras-chikomeni-simply-wanted-to-make-a-statement-to-shame-malawi-political-system/\n",
      "https://www.nyasatimes.com/mutharikas-task-to-preserve-dpp-dna-on-running-mate/\n",
      "https://www.nyasatimes.com/mutharikas-task-to-preserve-dpp-dna-on-running-mate/\n",
      "https://www.nyasatimes.com/dzonzi-at-large-ras-chikomeni-brewing-malawi-revolution/\n",
      "https://www.nyasatimes.com/dzonzi-at-large-ras-chikomeni-brewing-malawi-revolution/\n",
      "https://www.nyasatimes.com/category/education/\n",
      "https://www.nyasatimes.com/jb-foundation-hands-over-k40-million-school-blocks-in-thyolo/\n",
      "https://www.nyasatimes.com/jb-foundation-hands-over-k40-million-school-blocks-in-thyolo/\n",
      "https://www.nyasatimes.com/chaponda-says-early-child-education-vital-submits-papers-to-run-for-dpp-in-mulanje-south-west/\n",
      "https://www.nyasatimes.com/chaponda-says-early-child-education-vital-submits-papers-to-run-for-dpp-in-mulanje-south-west/\n",
      "https://www.nyasatimes.com/machinga-dc-petitioned-to-ensure-quick-renovation-of-secondary-school-roof/\n",
      "https://www.nyasatimes.com/machinga-dc-petitioned-to-ensure-quick-renovation-of-secondary-school-roof/\n",
      "https://www.nyasatimes.com/minister-msaka-says-govt-values-tackling-education-bottlenecks-in-multi-sectoral-manner/\n",
      "https://www.nyasatimes.com/minister-msaka-says-govt-values-tackling-education-bottlenecks-in-multi-sectoral-manner/\n",
      "https://www.nyasatimes.com/category/entertainment/\n",
      "https://www.nyasatimes.com/lucius-banda-ammara-brown-lulu-to-headline-celebrate-africa-concert/\n",
      "https://www.nyasatimes.com/lucius-banda-ammara-brown-lulu-to-headline-celebrate-africa-concert/\n",
      "https://www.nyasatimes.com/north-malawi-responds-to-miss-glam-and-glory-initiative/\n",
      "https://www.nyasatimes.com/north-malawi-responds-to-miss-glam-and-glory-initiative/\n",
      "https://www.nyasatimes.com/gwamba-promises-major-announcement-as-he-plans-to-release-new-music/\n",
      "https://www.nyasatimes.com/gwamba-promises-major-announcement-as-he-plans-to-release-new-music/\n",
      "https://www.nyasatimes.com/upcoming-gospel-artist-misheck-langton-drops-debut-album-nditama-inu/\n",
      "https://www.nyasatimes.com/upcoming-gospel-artist-misheck-langton-drops-debut-album-nditama-inu/\n",
      "https://www.nyasatimes.com/category/health/\n",
      "https://www.nyasatimes.com/woman-gives-birth-under-tree-safemotherhood-in-malawi/\n",
      "https://www.nyasatimes.com/woman-gives-birth-under-tree-safemotherhood-in-malawi/\n",
      "https://www.nyasatimes.com/malawi-women-coalition-recognised-as-cancer-champion/\n",
      "https://www.nyasatimes.com/malawi-women-coalition-recognised-as-cancer-champion/\n",
      "https://www.nyasatimes.com/govt-buys-12-ambulances-for-lilongwe-blantyre-road-accidents/\n",
      "https://www.nyasatimes.com/govt-buys-12-ambulances-for-lilongwe-blantyre-road-accidents/\n",
      "https://www.nyasatimes.com/balaka-hospital-operating-without-x-ray-machine/\n",
      "https://www.nyasatimes.com/balaka-hospital-operating-without-x-ray-machine/\n",
      "http://www.tnm.co.mw/\n",
      "http://www.tnm.co.mw/\n",
      "https://www.nyasatimes.com/atupeles-runningmate-mwenifumbo-tells-chihana-i-am-not-resigning-from-aford/\n",
      "https://www.nyasatimes.com/atupeles-runningmate-mwenifumbo-tells-chihana-i-am-not-resigning-from-aford/\n",
      "https://www.nyasatimes.com/mutharika-issues-certificates-to-dpp-parliamentary-candidates/\n",
      "https://www.nyasatimes.com/mutharika-issues-certificates-to-dpp-parliamentary-candidates/\n",
      "https://www.nyasatimes.com/mcp-making-inroads-in-monkey-bay-says-aspirant-kazembe/\n",
      "https://www.nyasatimes.com/mcp-making-inroads-in-monkey-bay-says-aspirant-kazembe/\n",
      "https://www.nyasatimes.com/utm-veep-and-chilimas-running-mate-usi-in-maiden-event/\n",
      "https://www.nyasatimes.com/utm-veep-and-chilimas-running-mate-usi-in-maiden-event/\n",
      "https://www.nyasatimes.com/dpp-withdraws-mumba-replaces-mzomera-with-his-wife-as-parliamentary-candidate/\n",
      "https://www.nyasatimes.com/dpp-withdraws-mumba-replaces-mzomera-with-his-wife-as-parliamentary-candidate/\n",
      "https://www.nyasatimes.com/dedza-east-independent-candidate-says-he-is-mcp/\n",
      "https://www.nyasatimes.com/dedza-east-independent-candidate-says-he-is-mcp/\n",
      "https://www.nyasatimes.com/chimulirenji-vows-not-to-be-like-chilima-understands-the-difference-between-a-vice-and-deputy-president/\n",
      "https://www.nyasatimes.com/chimulirenji-vows-not-to-be-like-chilima-understands-the-difference-between-a-vice-and-deputy-president/\n",
      "https://www.nyasatimes.com/mcps-mwamlima-calls-for-tolerance-in-campaign-period/\n",
      "https://www.nyasatimes.com/mcps-mwamlima-calls-for-tolerance-in-campaign-period/\n",
      "https://www.nyasatimes.com/makande-defies-dpp-to-challenge-party-candidate-jooma-as-independent-in-monkeybay/\n",
      "https://www.nyasatimes.com/makande-defies-dpp-to-challenge-party-candidate-jooma-as-independent-in-monkeybay/\n",
      "https://www.nyasatimes.com/utms-masangwi-submit-papers-in-star-studded-fashion/\n",
      "https://www.nyasatimes.com/utms-masangwi-submit-papers-in-star-studded-fashion/\n",
      "https://www.nyasatimes.com/dpp-paints-blantyre-blue-after-they-hype-there-was-gloom/\n",
      "https://www.nyasatimes.com/dpp-paints-blantyre-blue-after-they-hype-there-was-gloom/\n",
      "https://www.nyasatimes.com/dpp-depeco-alliance-mutually-beneficial-daza/\n",
      "https://www.nyasatimes.com/dpp-depeco-alliance-mutually-beneficial-daza/\n",
      "https://www.nyasatimes.com/category/politics/page/2/\n",
      "https://www.nyasatimes.com/category/politics/page/3/\n",
      "https://www.nyasatimes.com/category/politics/page/707/\n",
      "https://www.nyasatimes.com/category/politics/page/2/\n",
      "https://www.facebook.com/ANCCLeeds\n",
      "http://www.sortafrica.com/\n",
      "http://www.beforward.jp/?\n",
      "utm_source=media&utm_medium=display&utm_term=MS2018030100002&utm_content=NewSaleBanner&utm_campaign=NyasatimesBelow_NewSaleBanner\n",
      "http://click.alibaba.com/rd/ngjnjns4\n",
      "http://www.nyasatimes.com/contribute-to-nyasatimes/\n",
      "http://www.nyasatimes.com/about-us/\n",
      "http://www.nyasatimes.com/contact-us/\n",
      "http://www.nyasatimes.com/privacy/\n",
      "http://www.nyasatimes.com/advertise/\n",
      "http://www.nyasatimes.com/terms-of-use/\n"
     ]
    }
   ],
   "source": [
    "import urllib.request\n",
    "from bs4 import BeautifulSoup\n",
    "url = \"https://www.nyasatimes.com/category/politics/\"\n",
    "\n",
    "# Opening the URL as Browser, not as python urllib after getting a 403 error previously\n",
    "page=urllib.request.Request(url,headers={'User-Agent': 'Mozilla/5.0'}) \n",
    "infile=urllib.request.urlopen(page).read()\n",
    "data = infile.decode('ISO-8859-1') # Read the content as string decoded with ISO-8859-1\n",
    "\n",
    "soup = BeautifulSoup(infile, 'html5lib')\n",
    "\n",
    "\n",
    "#soup.p\n",
    "soup.find_all('div', class_=\"uv-thumb-article-wrap\") #+ soup.find_all('div', class_=\"wc-thread-wrapper\")\n",
    "\n",
    "#viz=soup.find_all('div')\n",
    "\n",
    "\n",
    "for link in soup.find_all('a'):\n",
    "    weblist = link.get('href')\n",
    "    print(weblist)\n",
    "    \n",
    "\n",
    "    \n",
    "#print(data) Print the data to the screen"
   ]
  },
  {
   "cell_type": "code",
   "execution_count": 6,
   "metadata": {},
   "outputs": [
    {
     "data": {
      "text/html": [
       "<div>\n",
       "<style scoped>\n",
       "    .dataframe tbody tr th:only-of-type {\n",
       "        vertical-align: middle;\n",
       "    }\n",
       "\n",
       "    .dataframe tbody tr th {\n",
       "        vertical-align: top;\n",
       "    }\n",
       "\n",
       "    .dataframe thead th {\n",
       "        text-align: right;\n",
       "    }\n",
       "</style>\n",
       "<table border=\"1\" class=\"dataframe\">\n",
       "  <thead>\n",
       "    <tr style=\"text-align: right;\">\n",
       "      <th></th>\n",
       "      <th>PostText</th>\n",
       "      <th>DatePosted</th>\n",
       "      <th>Comments</th>\n",
       "      <th>sentiment</th>\n",
       "    </tr>\n",
       "  </thead>\n",
       "  <tbody>\n",
       "  </tbody>\n",
       "</table>\n",
       "</div>"
      ],
      "text/plain": [
       "Empty DataFrame\n",
       "Columns: [PostText, DatePosted, Comments, sentiment]\n",
       "Index: []"
      ]
     },
     "execution_count": 6,
     "metadata": {},
     "output_type": "execute_result"
    }
   ],
   "source": [
    "import pandas as pd\n",
    "\n",
    "#defining the dataframe for collecting online news outlet posts on political candidates and their related statistics\n",
    "postMetaData = ['PostText', 'DatePosted', 'Comments', 'sentiment']\n",
    "postDF = pd.DataFrame(columns=postMetaData)\n",
    "postDF"
   ]
  },
  {
   "cell_type": "markdown",
   "metadata": {},
   "source": [
    "include real time web scraping code"
   ]
  },
  {
   "cell_type": "code",
   "execution_count": null,
   "metadata": {},
   "outputs": [],
   "source": []
  }
 ],
 "metadata": {
  "kernelspec": {
   "display_name": "Python 3",
   "language": "python",
   "name": "python3"
  },
  "language_info": {
   "codemirror_mode": {
    "name": "ipython",
    "version": 3
   },
   "file_extension": ".py",
   "mimetype": "text/x-python",
   "name": "python",
   "nbconvert_exporter": "python",
   "pygments_lexer": "ipython3",
   "version": "3.6.5"
  }
 },
 "nbformat": 4,
 "nbformat_minor": 2
}
